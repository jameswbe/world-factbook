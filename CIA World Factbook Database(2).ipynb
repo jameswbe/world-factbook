{
 "cells": [
  {
   "cell_type": "markdown",
   "metadata": {},
   "source": [
    "<h1>World Factbook</h1>\n",
    "\n",
    "In this guided project, we'll use SQL to explore and analyze demographic data from the <a href=\"https://www.cia.gov/library/publications/the-world-factbook/\">CIA World Factbook</a> database."
   ]
  },
  {
   "cell_type": "code",
   "execution_count": 221,
   "metadata": {},
   "outputs": [],
   "source": [
    "%%capture\n",
    "%load_ext sql\n",
    "%sql sqlite:///factbook.db"
   ]
  },
  {
   "cell_type": "code",
   "execution_count": 222,
   "metadata": {},
   "outputs": [
    {
     "name": "stdout",
     "output_type": "stream",
     "text": [
      " * sqlite:///factbook.db\n",
      "Done.\n"
     ]
    },
    {
     "data": {
      "text/html": [
       "<table>\n",
       "    <tr>\n",
       "        <th>type</th>\n",
       "        <th>name</th>\n",
       "        <th>tbl_name</th>\n",
       "        <th>rootpage</th>\n",
       "        <th>sql</th>\n",
       "    </tr>\n",
       "    <tr>\n",
       "        <td>table</td>\n",
       "        <td>sqlite_sequence</td>\n",
       "        <td>sqlite_sequence</td>\n",
       "        <td>3</td>\n",
       "        <td>CREATE TABLE sqlite_sequence(name,seq)</td>\n",
       "    </tr>\n",
       "    <tr>\n",
       "        <td>table</td>\n",
       "        <td>facts</td>\n",
       "        <td>facts</td>\n",
       "        <td>47</td>\n",
       "        <td>CREATE TABLE &quot;facts&quot; (&quot;id&quot; INTEGER PRIMARY KEY AUTOINCREMENT NOT NULL, &quot;code&quot; varchar(255) NOT NULL, &quot;name&quot; varchar(255) NOT NULL, &quot;area&quot; integer, &quot;area_land&quot; integer, &quot;area_water&quot; integer, &quot;population&quot; integer, &quot;population_growth&quot; float, &quot;birth_rate&quot; float, &quot;death_rate&quot; float, &quot;migration_rate&quot; float)</td>\n",
       "    </tr>\n",
       "</table>"
      ],
      "text/plain": [
       "[('table', 'sqlite_sequence', 'sqlite_sequence', 3, 'CREATE TABLE sqlite_sequence(name,seq)'),\n",
       " ('table', 'facts', 'facts', 47, 'CREATE TABLE \"facts\" (\"id\" INTEGER PRIMARY KEY AUTOINCREMENT NOT NULL, \"code\" varchar(255) NOT NULL, \"name\" varchar(255) NOT NULL, \"area\" integer, \"a ... (4 characters truncated) ... land\" integer, \"area_water\" integer, \"population\" integer, \"population_growth\" float, \"birth_rate\" float, \"death_rate\" float, \"migration_rate\" float)')]"
      ]
     },
     "execution_count": 222,
     "metadata": {},
     "output_type": "execute_result"
    }
   ],
   "source": [
    "%%sql\n",
    "SELECT *\n",
    "  FROM sqlite_master\n",
    " WHERE type='table';"
   ]
  },
  {
   "cell_type": "markdown",
   "metadata": {},
   "source": [
    "This database contains two tables: sqlite_sequence and facts, but we are only interested in the second table since it contains facts about countries. \n",
    "\n",
    "Let's return the first ten rows of the facts table."
   ]
  },
  {
   "cell_type": "code",
   "execution_count": 223,
   "metadata": {},
   "outputs": [
    {
     "name": "stdout",
     "output_type": "stream",
     "text": [
      " * sqlite:///factbook.db\n",
      "Done.\n"
     ]
    },
    {
     "data": {
      "text/html": [
       "<table>\n",
       "    <tr>\n",
       "        <th>id</th>\n",
       "        <th>code</th>\n",
       "        <th>name</th>\n",
       "        <th>area</th>\n",
       "        <th>area_land</th>\n",
       "        <th>area_water</th>\n",
       "        <th>population</th>\n",
       "        <th>population_growth</th>\n",
       "        <th>birth_rate</th>\n",
       "        <th>death_rate</th>\n",
       "        <th>migration_rate</th>\n",
       "    </tr>\n",
       "    <tr>\n",
       "        <td>1</td>\n",
       "        <td>af</td>\n",
       "        <td>Afghanistan</td>\n",
       "        <td>652230</td>\n",
       "        <td>652230</td>\n",
       "        <td>0</td>\n",
       "        <td>32564342</td>\n",
       "        <td>2.32</td>\n",
       "        <td>38.57</td>\n",
       "        <td>13.89</td>\n",
       "        <td>1.51</td>\n",
       "    </tr>\n",
       "    <tr>\n",
       "        <td>2</td>\n",
       "        <td>al</td>\n",
       "        <td>Albania</td>\n",
       "        <td>28748</td>\n",
       "        <td>27398</td>\n",
       "        <td>1350</td>\n",
       "        <td>3029278</td>\n",
       "        <td>0.3</td>\n",
       "        <td>12.92</td>\n",
       "        <td>6.58</td>\n",
       "        <td>3.3</td>\n",
       "    </tr>\n",
       "    <tr>\n",
       "        <td>3</td>\n",
       "        <td>ag</td>\n",
       "        <td>Algeria</td>\n",
       "        <td>2381741</td>\n",
       "        <td>2381741</td>\n",
       "        <td>0</td>\n",
       "        <td>39542166</td>\n",
       "        <td>1.84</td>\n",
       "        <td>23.67</td>\n",
       "        <td>4.31</td>\n",
       "        <td>0.92</td>\n",
       "    </tr>\n",
       "    <tr>\n",
       "        <td>4</td>\n",
       "        <td>an</td>\n",
       "        <td>Andorra</td>\n",
       "        <td>468</td>\n",
       "        <td>468</td>\n",
       "        <td>0</td>\n",
       "        <td>85580</td>\n",
       "        <td>0.12</td>\n",
       "        <td>8.13</td>\n",
       "        <td>6.96</td>\n",
       "        <td>0.0</td>\n",
       "    </tr>\n",
       "    <tr>\n",
       "        <td>5</td>\n",
       "        <td>ao</td>\n",
       "        <td>Angola</td>\n",
       "        <td>1246700</td>\n",
       "        <td>1246700</td>\n",
       "        <td>0</td>\n",
       "        <td>19625353</td>\n",
       "        <td>2.78</td>\n",
       "        <td>38.78</td>\n",
       "        <td>11.49</td>\n",
       "        <td>0.46</td>\n",
       "    </tr>\n",
       "    <tr>\n",
       "        <td>6</td>\n",
       "        <td>ac</td>\n",
       "        <td>Antigua and Barbuda</td>\n",
       "        <td>442</td>\n",
       "        <td>442</td>\n",
       "        <td>0</td>\n",
       "        <td>92436</td>\n",
       "        <td>1.24</td>\n",
       "        <td>15.85</td>\n",
       "        <td>5.69</td>\n",
       "        <td>2.21</td>\n",
       "    </tr>\n",
       "    <tr>\n",
       "        <td>7</td>\n",
       "        <td>ar</td>\n",
       "        <td>Argentina</td>\n",
       "        <td>2780400</td>\n",
       "        <td>2736690</td>\n",
       "        <td>43710</td>\n",
       "        <td>43431886</td>\n",
       "        <td>0.93</td>\n",
       "        <td>16.64</td>\n",
       "        <td>7.33</td>\n",
       "        <td>0.0</td>\n",
       "    </tr>\n",
       "    <tr>\n",
       "        <td>8</td>\n",
       "        <td>am</td>\n",
       "        <td>Armenia</td>\n",
       "        <td>29743</td>\n",
       "        <td>28203</td>\n",
       "        <td>1540</td>\n",
       "        <td>3056382</td>\n",
       "        <td>0.15</td>\n",
       "        <td>13.61</td>\n",
       "        <td>9.34</td>\n",
       "        <td>5.8</td>\n",
       "    </tr>\n",
       "    <tr>\n",
       "        <td>9</td>\n",
       "        <td>as</td>\n",
       "        <td>Australia</td>\n",
       "        <td>7741220</td>\n",
       "        <td>7682300</td>\n",
       "        <td>58920</td>\n",
       "        <td>22751014</td>\n",
       "        <td>1.07</td>\n",
       "        <td>12.15</td>\n",
       "        <td>7.14</td>\n",
       "        <td>5.65</td>\n",
       "    </tr>\n",
       "    <tr>\n",
       "        <td>10</td>\n",
       "        <td>au</td>\n",
       "        <td>Austria</td>\n",
       "        <td>83871</td>\n",
       "        <td>82445</td>\n",
       "        <td>1426</td>\n",
       "        <td>8665550</td>\n",
       "        <td>0.55</td>\n",
       "        <td>9.41</td>\n",
       "        <td>9.42</td>\n",
       "        <td>5.56</td>\n",
       "    </tr>\n",
       "</table>"
      ],
      "text/plain": [
       "[(1, 'af', 'Afghanistan', 652230, 652230, 0, 32564342, 2.32, 38.57, 13.89, 1.51),\n",
       " (2, 'al', 'Albania', 28748, 27398, 1350, 3029278, 0.3, 12.92, 6.58, 3.3),\n",
       " (3, 'ag', 'Algeria', 2381741, 2381741, 0, 39542166, 1.84, 23.67, 4.31, 0.92),\n",
       " (4, 'an', 'Andorra', 468, 468, 0, 85580, 0.12, 8.13, 6.96, 0.0),\n",
       " (5, 'ao', 'Angola', 1246700, 1246700, 0, 19625353, 2.78, 38.78, 11.49, 0.46),\n",
       " (6, 'ac', 'Antigua and Barbuda', 442, 442, 0, 92436, 1.24, 15.85, 5.69, 2.21),\n",
       " (7, 'ar', 'Argentina', 2780400, 2736690, 43710, 43431886, 0.93, 16.64, 7.33, 0.0),\n",
       " (8, 'am', 'Armenia', 29743, 28203, 1540, 3056382, 0.15, 13.61, 9.34, 5.8),\n",
       " (9, 'as', 'Australia', 7741220, 7682300, 58920, 22751014, 1.07, 12.15, 7.14, 5.65),\n",
       " (10, 'au', 'Austria', 83871, 82445, 1426, 8665550, 0.55, 9.41, 9.42, 5.56)]"
      ]
     },
     "execution_count": 223,
     "metadata": {},
     "output_type": "execute_result"
    }
   ],
   "source": [
    "%%sql\n",
    "SELECT *\n",
    "  FROM facts\n",
    " LIMIT 10;"
   ]
  },
  {
   "cell_type": "markdown",
   "metadata": {},
   "source": [
    "Let's see the top 10 largest populations, calculate some summary statistics and look for any outlier countries by using min and max functions."
   ]
  },
  {
   "cell_type": "code",
   "execution_count": 286,
   "metadata": {},
   "outputs": [
    {
     "name": "stdout",
     "output_type": "stream",
     "text": [
      " * sqlite:///factbook.db\n",
      "Done.\n"
     ]
    },
    {
     "data": {
      "text/html": [
       "<table>\n",
       "    <tr>\n",
       "        <th>name</th>\n",
       "        <th>pop (M)</th>\n",
       "    </tr>\n",
       "    <tr>\n",
       "        <td>World</td>\n",
       "        <td>7256</td>\n",
       "    </tr>\n",
       "    <tr>\n",
       "        <td>China</td>\n",
       "        <td>1367</td>\n",
       "    </tr>\n",
       "    <tr>\n",
       "        <td>India</td>\n",
       "        <td>1251</td>\n",
       "    </tr>\n",
       "    <tr>\n",
       "        <td>European Union</td>\n",
       "        <td>513</td>\n",
       "    </tr>\n",
       "    <tr>\n",
       "        <td>United States</td>\n",
       "        <td>321</td>\n",
       "    </tr>\n",
       "    <tr>\n",
       "        <td>Indonesia</td>\n",
       "        <td>255</td>\n",
       "    </tr>\n",
       "    <tr>\n",
       "        <td>Brazil</td>\n",
       "        <td>204</td>\n",
       "    </tr>\n",
       "    <tr>\n",
       "        <td>Pakistan</td>\n",
       "        <td>199</td>\n",
       "    </tr>\n",
       "    <tr>\n",
       "        <td>Nigeria</td>\n",
       "        <td>181</td>\n",
       "    </tr>\n",
       "    <tr>\n",
       "        <td>Bangladesh</td>\n",
       "        <td>168</td>\n",
       "    </tr>\n",
       "</table>"
      ],
      "text/plain": [
       "[('World', 7256),\n",
       " ('China', 1367),\n",
       " ('India', 1251),\n",
       " ('European Union', 513),\n",
       " ('United States', 321),\n",
       " ('Indonesia', 255),\n",
       " ('Brazil', 204),\n",
       " ('Pakistan', 199),\n",
       " ('Nigeria', 181),\n",
       " ('Bangladesh', 168)]"
      ]
     },
     "execution_count": 286,
     "metadata": {},
     "output_type": "execute_result"
    }
   ],
   "source": [
    "%%sql\n",
    "SELECT name, population/1000000 'pop (M)'\n",
    "FROM facts \n",
    "ORDER BY population DESC\n",
    "LIMIT 10;"
   ]
  },
  {
   "cell_type": "code",
   "execution_count": 285,
   "metadata": {},
   "outputs": [
    {
     "name": "stdout",
     "output_type": "stream",
     "text": [
      " * sqlite:///factbook.db\n",
      "Done.\n"
     ]
    },
    {
     "data": {
      "text/html": [
       "<table>\n",
       "    <tr>\n",
       "        <th>min_pop</th>\n",
       "        <th>max_pop (M)</th>\n",
       "        <th>min_pop_growth</th>\n",
       "        <th>max_pop_growth</th>\n",
       "    </tr>\n",
       "    <tr>\n",
       "        <td>0</td>\n",
       "        <td>7256</td>\n",
       "        <td>0.0</td>\n",
       "        <td>4.02</td>\n",
       "    </tr>\n",
       "</table>"
      ],
      "text/plain": [
       "[(0, 7256, 0.0, 4.02)]"
      ]
     },
     "execution_count": 285,
     "metadata": {},
     "output_type": "execute_result"
    }
   ],
   "source": [
    "%%sql\n",
    "SELECT MIN(population) AS min_pop,\n",
    "       MAX(population)/1000000 AS 'max_pop (M)',\n",
    "       MIN(population_growth) AS min_pop_growth,\n",
    "       MAX(population_growth) max_pop_growth \n",
    "  FROM facts;"
   ]
  },
  {
   "cell_type": "markdown",
   "metadata": {},
   "source": [
    "A few things stick out from the summary statistics:\n",
    "\n",
    "    There's a country with a population of 0\n",
    "    There's a country with a population of more than 7.2 billion people\n",
    "\n",
    "Let's use subqueries to zoom in on just these outlier countries without using the specific values."
   ]
  },
  {
   "cell_type": "code",
   "execution_count": 226,
   "metadata": {},
   "outputs": [
    {
     "name": "stdout",
     "output_type": "stream",
     "text": [
      " * sqlite:///factbook.db\n",
      "Done.\n"
     ]
    },
    {
     "data": {
      "text/html": [
       "<table>\n",
       "    <tr>\n",
       "        <th>id</th>\n",
       "        <th>code</th>\n",
       "        <th>name</th>\n",
       "        <th>area</th>\n",
       "        <th>area_land</th>\n",
       "        <th>area_water</th>\n",
       "        <th>population</th>\n",
       "        <th>population_growth</th>\n",
       "        <th>birth_rate</th>\n",
       "        <th>death_rate</th>\n",
       "        <th>migration_rate</th>\n",
       "    </tr>\n",
       "    <tr>\n",
       "        <td>250</td>\n",
       "        <td>ay</td>\n",
       "        <td>Antarctica</td>\n",
       "        <td>None</td>\n",
       "        <td>280000</td>\n",
       "        <td>None</td>\n",
       "        <td>0</td>\n",
       "        <td>None</td>\n",
       "        <td>None</td>\n",
       "        <td>None</td>\n",
       "        <td>None</td>\n",
       "    </tr>\n",
       "</table>"
      ],
      "text/plain": [
       "[(250, 'ay', 'Antarctica', None, 280000, None, 0, None, None, None, None)]"
      ]
     },
     "execution_count": 226,
     "metadata": {},
     "output_type": "execute_result"
    }
   ],
   "source": [
    "%%sql\n",
    "SELECT *\n",
    "  FROM facts\n",
    " WHERE population == (SELECT MIN(population)\n",
    "                        FROM facts\n",
    "                     );"
   ]
  },
  {
   "cell_type": "markdown",
   "metadata": {},
   "source": [
    "It seems like the table contains a row for Antarctica, which explains the population of 0."
   ]
  },
  {
   "cell_type": "code",
   "execution_count": 383,
   "metadata": {},
   "outputs": [
    {
     "name": "stdout",
     "output_type": "stream",
     "text": [
      " * sqlite:///factbook.db\n",
      "Done.\n"
     ]
    },
    {
     "data": {
      "text/html": [
       "<table>\n",
       "    <tr>\n",
       "        <th>id</th>\n",
       "        <th>code</th>\n",
       "        <th>name</th>\n",
       "        <th>area</th>\n",
       "        <th>area_land</th>\n",
       "        <th>area_water</th>\n",
       "        <th>population</th>\n",
       "        <th>population_growth</th>\n",
       "        <th>birth_rate</th>\n",
       "        <th>death_rate</th>\n",
       "        <th>migration_rate</th>\n",
       "    </tr>\n",
       "    <tr>\n",
       "        <td>261</td>\n",
       "        <td>xx</td>\n",
       "        <td>World</td>\n",
       "        <td>None</td>\n",
       "        <td>None</td>\n",
       "        <td>None</td>\n",
       "        <td>7256490011</td>\n",
       "        <td>1.08</td>\n",
       "        <td>18.6</td>\n",
       "        <td>7.8</td>\n",
       "        <td>None</td>\n",
       "    </tr>\n",
       "</table>"
      ],
      "text/plain": [
       "[(261, 'xx', 'World', None, None, None, 7256490011, 1.08, 18.6, 7.8, None)]"
      ]
     },
     "execution_count": 383,
     "metadata": {},
     "output_type": "execute_result"
    }
   ],
   "source": [
    "%%sql\n",
    "SELECT *\n",
    "  FROM facts\n",
    " WHERE population == (SELECT MAX(population)\n",
    "                        FROM facts\n",
    "                     );"
   ]
  },
  {
   "cell_type": "markdown",
   "metadata": {},
   "source": [
    "\n",
    "\n",
    "We also see that the table contains a row for the whole world, which explains the maximum population of over 7.2 billion we found earlier.\n",
    "\n",
    "Now that we know this, we should recalculate the summary statistics we calculated earlier, while excluding the row for the whole world.\n"
   ]
  },
  {
   "cell_type": "code",
   "execution_count": 386,
   "metadata": {},
   "outputs": [
    {
     "name": "stdout",
     "output_type": "stream",
     "text": [
      " * sqlite:///factbook.db\n",
      "Done.\n"
     ]
    },
    {
     "data": {
      "text/html": [
       "<table>\n",
       "    <tr>\n",
       "        <th>min_pop</th>\n",
       "        <th>max_pop</th>\n",
       "        <th>min_pop_growth</th>\n",
       "        <th>max_pop_growth</th>\n",
       "    </tr>\n",
       "    <tr>\n",
       "        <td>0</td>\n",
       "        <td>1367485388</td>\n",
       "        <td>0.0</td>\n",
       "        <td>4.02</td>\n",
       "    </tr>\n",
       "</table>"
      ],
      "text/plain": [
       "[(0, 1367485388, 0.0, 4.02)]"
      ]
     },
     "execution_count": 386,
     "metadata": {},
     "output_type": "execute_result"
    }
   ],
   "source": [
    "%%sql\n",
    "SELECT MIN(population) min_pop, MAX(population) max_pop,\n",
    "       MIN(population_growth)min_pop_growth, MAX(population_growth)max_pop_growth\n",
    "  FROM facts\n",
    " WHERE name NOT IN (\"World\");"
   ]
  },
  {
   "cell_type": "code",
   "execution_count": 377,
   "metadata": {},
   "outputs": [
    {
     "name": "stdout",
     "output_type": "stream",
     "text": [
      " * sqlite:///factbook.db\n",
      "Done.\n"
     ]
    },
    {
     "data": {
      "text/html": [
       "<table>\n",
       "    <tr>\n",
       "        <th>avg_population(M)</th>\n",
       "        <th>avg_area(M)</th>\n",
       "    </tr>\n",
       "    <tr>\n",
       "        <td>30</td>\n",
       "        <td>0.54</td>\n",
       "    </tr>\n",
       "</table>"
      ],
      "text/plain": [
       "[(30, 0.54)]"
      ]
     },
     "execution_count": 377,
     "metadata": {},
     "output_type": "execute_result"
    }
   ],
   "source": [
    "%%sql\n",
    "SELECT CAST(ROUND(AVG(population)/1000000,0)AS INT) AS 'avg_population(M)', \n",
    "ROUND(AVG(area)/1000000,2) AS 'avg_area(M)'\n",
    "  FROM facts\n",
    " WHERE name <> 'World'AND name <> \"European Union\";\n",
    "\n"
   ]
  },
  {
   "cell_type": "code",
   "execution_count": 388,
   "metadata": {},
   "outputs": [
    {
     "name": "stdout",
     "output_type": "stream",
     "text": [
      " * sqlite:///factbook.db\n",
      "Done.\n"
     ]
    },
    {
     "data": {
      "text/html": [
       "<table>\n",
       "    <tr>\n",
       "        <th>avg_country_area (Sq. km, 1000s)</th>\n",
       "    </tr>\n",
       "    <tr>\n",
       "        <td>539</td>\n",
       "    </tr>\n",
       "</table>"
      ],
      "text/plain": [
       "[(539,)]"
      ]
     },
     "execution_count": 388,
     "metadata": {},
     "output_type": "execute_result"
    }
   ],
   "source": [
    "%%sql\n",
    "SELECT CAST(ROUND(AVG(area)/1000,2)AS INT) 'avg_country_area (Sq. km, 1000s)'\n",
    "  FROM facts\n",
    " WHERE name <> \"European Union\";"
   ]
  },
  {
   "cell_type": "markdown",
   "metadata": {},
   "source": [
    "We see that the average population is 30 million and the average land area is circa half a million square kilometers. <br>The EU and world had to be excluded from the population computations, since both already have their countries in the dataset.\n",
    "\n",
    "Now we'll show the countries with the highest population densities.<br>\n",
    "The area_land column is - the country's land area in square kilometers."
   ]
  },
  {
   "cell_type": "code",
   "execution_count": 312,
   "metadata": {},
   "outputs": [
    {
     "name": "stdout",
     "output_type": "stream",
     "text": [
      " * sqlite:///factbook.db\n",
      "Done.\n"
     ]
    },
    {
     "data": {
      "text/html": [
       "<table>\n",
       "    <tr>\n",
       "        <th>name</th>\n",
       "        <th>Population Density (Inhabitants per Square Km)</th>\n",
       "        <th>pop (M)</th>\n",
       "        <th>Land Area (Square Km)</th>\n",
       "    </tr>\n",
       "    <tr>\n",
       "        <td>Macau</td>\n",
       "        <td>21168</td>\n",
       "        <td>0.59</td>\n",
       "        <td>28</td>\n",
       "    </tr>\n",
       "    <tr>\n",
       "        <td>Monaco</td>\n",
       "        <td>15267</td>\n",
       "        <td>0.03</td>\n",
       "        <td>2</td>\n",
       "    </tr>\n",
       "    <tr>\n",
       "        <td>Singapore</td>\n",
       "        <td>8259</td>\n",
       "        <td>5.67</td>\n",
       "        <td>687</td>\n",
       "    </tr>\n",
       "    <tr>\n",
       "        <td>Hong Kong</td>\n",
       "        <td>6655</td>\n",
       "        <td>7.14</td>\n",
       "        <td>1073</td>\n",
       "    </tr>\n",
       "    <tr>\n",
       "        <td>Gaza Strip</td>\n",
       "        <td>5191</td>\n",
       "        <td>1.87</td>\n",
       "        <td>360</td>\n",
       "    </tr>\n",
       "    <tr>\n",
       "        <td>Gibraltar</td>\n",
       "        <td>4876</td>\n",
       "        <td>0.03</td>\n",
       "        <td>6</td>\n",
       "    </tr>\n",
       "    <tr>\n",
       "        <td>Bahrain</td>\n",
       "        <td>1771</td>\n",
       "        <td>1.35</td>\n",
       "        <td>760</td>\n",
       "    </tr>\n",
       "    <tr>\n",
       "        <td>Maldives</td>\n",
       "        <td>1319</td>\n",
       "        <td>0.39</td>\n",
       "        <td>298</td>\n",
       "    </tr>\n",
       "    <tr>\n",
       "        <td>Malta</td>\n",
       "        <td>1310</td>\n",
       "        <td>0.41</td>\n",
       "        <td>316</td>\n",
       "    </tr>\n",
       "    <tr>\n",
       "        <td>Bermuda</td>\n",
       "        <td>1299</td>\n",
       "        <td>0.07</td>\n",
       "        <td>54</td>\n",
       "    </tr>\n",
       "</table>"
      ],
      "text/plain": [
       "[('Macau', 21168, 0.59, 28),\n",
       " ('Monaco', 15267, 0.03, 2),\n",
       " ('Singapore', 8259, 5.67, 687),\n",
       " ('Hong Kong', 6655, 7.14, 1073),\n",
       " ('Gaza Strip', 5191, 1.87, 360),\n",
       " ('Gibraltar', 4876, 0.03, 6),\n",
       " ('Bahrain', 1771, 1.35, 760),\n",
       " ('Maldives', 1319, 0.39, 298),\n",
       " ('Malta', 1310, 0.41, 316),\n",
       " ('Bermuda', 1299, 0.07, 54)]"
      ]
     },
     "execution_count": 312,
     "metadata": {},
     "output_type": "execute_result"
    }
   ],
   "source": [
    "%%sql\n",
    "SELECT name, population/area_land 'Population Density (Inhabitants per Square Km)',\n",
    "       ROUND(CAST(population AS FLOAT)/1000000,2) 'pop (M)',area_land 'Land Area (Square Km)'\n",
    "FROM facts\n",
    "ORDER BY 2 DESC\n",
    "LIMIT 10;"
   ]
  },
  {
   "cell_type": "code",
   "execution_count": 303,
   "metadata": {},
   "outputs": [
    {
     "name": "stdout",
     "output_type": "stream",
     "text": [
      " * sqlite:///factbook.db\n",
      "Done.\n"
     ]
    },
    {
     "data": {
      "text/html": [
       "<table>\n",
       "    <tr>\n",
       "        <th>Average Population Density</th>\n",
       "    </tr>\n",
       "    <tr>\n",
       "        <td>431</td>\n",
       "    </tr>\n",
       "</table>"
      ],
      "text/plain": [
       "[(431,)]"
      ]
     },
     "execution_count": 303,
     "metadata": {},
     "output_type": "execute_result"
    }
   ],
   "source": [
    "%%sql\n",
    "SELECT CAST(ROUND(AVG((population) / area_land), 0)AS INT) 'Average Population Density'\n",
    "  FROM facts\n",
    " WHERE name <> 'Antarctica'\n",
    "\n"
   ]
  },
  {
   "cell_type": "markdown",
   "metadata": {},
   "source": [
    "The top five most densely populated countries are over ten times more densely populated than the average 'country'. <br>Most are considered city states so this might be expected.\n",
    "<p>Now let's see countries with above average population, but below average land area."
   ]
  },
  {
   "cell_type": "code",
   "execution_count": 661,
   "metadata": {},
   "outputs": [
    {
     "name": "stdout",
     "output_type": "stream",
     "text": [
      " * sqlite:///factbook.db\n",
      "Done.\n"
     ]
    },
    {
     "data": {
      "text/html": [
       "<table>\n",
       "    <tr>\n",
       "        <th>name</th>\n",
       "        <th>area(K)</th>\n",
       "        <th>pop.(M)</th>\n",
       "        <th>average pop(M)</th>\n",
       "    </tr>\n",
       "    <tr>\n",
       "        <td>Bangladesh</td>\n",
       "        <td>148</td>\n",
       "        <td>168</td>\n",
       "        <td>62</td>\n",
       "    </tr>\n",
       "    <tr>\n",
       "        <td>Germany</td>\n",
       "        <td>357</td>\n",
       "        <td>80</td>\n",
       "        <td>62</td>\n",
       "    </tr>\n",
       "    <tr>\n",
       "        <td>Japan</td>\n",
       "        <td>377</td>\n",
       "        <td>126</td>\n",
       "        <td>62</td>\n",
       "    </tr>\n",
       "    <tr>\n",
       "        <td>Philippines</td>\n",
       "        <td>300</td>\n",
       "        <td>100</td>\n",
       "        <td>62</td>\n",
       "    </tr>\n",
       "    <tr>\n",
       "        <td>Thailand</td>\n",
       "        <td>513</td>\n",
       "        <td>67</td>\n",
       "        <td>62</td>\n",
       "    </tr>\n",
       "    <tr>\n",
       "        <td>United Kingdom</td>\n",
       "        <td>243</td>\n",
       "        <td>64</td>\n",
       "        <td>62</td>\n",
       "    </tr>\n",
       "    <tr>\n",
       "        <td>Vietnam</td>\n",
       "        <td>331</td>\n",
       "        <td>94</td>\n",
       "        <td>62</td>\n",
       "    </tr>\n",
       "</table>"
      ],
      "text/plain": [
       "[('Bangladesh', 148, 168, 62),\n",
       " ('Germany', 357, 80, 62),\n",
       " ('Japan', 377, 126, 62),\n",
       " ('Philippines', 300, 100, 62),\n",
       " ('Thailand', 513, 67, 62),\n",
       " ('United Kingdom', 243, 64, 62),\n",
       " ('Vietnam', 331, 94, 62)]"
      ]
     },
     "execution_count": 661,
     "metadata": {},
     "output_type": "execute_result"
    }
   ],
   "source": [
    "%%sql\n",
    "SELECT\n",
    "name,area/1000 'area(K)',population/1000000 'pop.(M)',(SELECT CAST(AVG(population)/1000000 AS INT) FROM facts) 'average pop(M)'\n",
    "FROM facts\n",
    "WHERE population > (SELECT AVG(population)\n",
    "                    FROM facts)\n",
    "      AND\n",
    "      area < (SELECT AVG(area)\n",
    "              FROM facts);"
   ]
  },
  {
   "cell_type": "markdown",
   "metadata": {},
   "source": [
    "<h2>Demographic Trends</h2>\n",
    "<h3>Country Comparison : Population Growth Rate</h3><br>\n",
    "Population growth rate compares the average annual percent change in populations, <br>resulting from a surplus (or deficit) of births over deaths and the balance of migrants entering and leaving a country. <br>The rate may be positive or negative. <br>\n",
    "Below compares for countries with >= 30M populations."
   ]
  },
  {
   "cell_type": "code",
   "execution_count": 622,
   "metadata": {},
   "outputs": [
    {
     "name": "stdout",
     "output_type": "stream",
     "text": [
      " * sqlite:///factbook.db\n",
      "Done.\n"
     ]
    },
    {
     "data": {
      "text/html": [
       "<table>\n",
       "    <tr>\n",
       "        <th>rank</th>\n",
       "        <th>Country</th>\n",
       "        <th>pop(M)</th>\n",
       "        <th>birth_rate</th>\n",
       "        <th>death_rate</th>\n",
       "        <th>population_growth</th>\n",
       "        <th>world average pop.growth</th>\n",
       "    </tr>\n",
       "    <tr>\n",
       "        <td>1</td>\n",
       "        <td>Uganda</td>\n",
       "        <td>37</td>\n",
       "        <td>43.79</td>\n",
       "        <td>10.69</td>\n",
       "        <td>3.24</td>\n",
       "        <td>1.21</td>\n",
       "    </tr>\n",
       "    <tr>\n",
       "        <td>2</td>\n",
       "        <td>Iraq</td>\n",
       "        <td>37</td>\n",
       "        <td>31.45</td>\n",
       "        <td>3.77</td>\n",
       "        <td>2.93</td>\n",
       "        <td>1.21</td>\n",
       "    </tr>\n",
       "    <tr>\n",
       "        <td>3</td>\n",
       "        <td>Ethiopia</td>\n",
       "        <td>99</td>\n",
       "        <td>37.27</td>\n",
       "        <td>8.19</td>\n",
       "        <td>2.89</td>\n",
       "        <td>1.21</td>\n",
       "    </tr>\n",
       "    <tr>\n",
       "        <td>4</td>\n",
       "        <td>Tanzania</td>\n",
       "        <td>51</td>\n",
       "        <td>36.39</td>\n",
       "        <td>8.0</td>\n",
       "        <td>2.79</td>\n",
       "        <td>1.21</td>\n",
       "    </tr>\n",
       "    <tr>\n",
       "        <td>5</td>\n",
       "        <td>Congo, Democratic Republic of the</td>\n",
       "        <td>79</td>\n",
       "        <td>34.88</td>\n",
       "        <td>10.07</td>\n",
       "        <td>2.45</td>\n",
       "        <td>1.21</td>\n",
       "    </tr>\n",
       "    <tr>\n",
       "        <td>5</td>\n",
       "        <td>Nigeria</td>\n",
       "        <td>181</td>\n",
       "        <td>37.64</td>\n",
       "        <td>12.9</td>\n",
       "        <td>2.45</td>\n",
       "        <td>1.21</td>\n",
       "    </tr>\n",
       "    <tr>\n",
       "        <td>7</td>\n",
       "        <td>Afghanistan</td>\n",
       "        <td>32</td>\n",
       "        <td>38.57</td>\n",
       "        <td>13.89</td>\n",
       "        <td>2.32</td>\n",
       "        <td>1.21</td>\n",
       "    </tr>\n",
       "    <tr>\n",
       "        <td>8</td>\n",
       "        <td>Kenya</td>\n",
       "        <td>45</td>\n",
       "        <td>26.4</td>\n",
       "        <td>6.89</td>\n",
       "        <td>1.93</td>\n",
       "        <td>1.21</td>\n",
       "    </tr>\n",
       "    <tr>\n",
       "        <td>9</td>\n",
       "        <td>Algeria</td>\n",
       "        <td>39</td>\n",
       "        <td>23.67</td>\n",
       "        <td>4.31</td>\n",
       "        <td>1.84</td>\n",
       "        <td>1.21</td>\n",
       "    </tr>\n",
       "    <tr>\n",
       "        <td>10</td>\n",
       "        <td>Egypt</td>\n",
       "        <td>88</td>\n",
       "        <td>22.9</td>\n",
       "        <td>4.77</td>\n",
       "        <td>1.79</td>\n",
       "        <td>1.21</td>\n",
       "    </tr>\n",
       "    <tr>\n",
       "        <td>10</td>\n",
       "        <td>Nepal</td>\n",
       "        <td>31</td>\n",
       "        <td>20.64</td>\n",
       "        <td>6.56</td>\n",
       "        <td>1.79</td>\n",
       "        <td>1.21</td>\n",
       "    </tr>\n",
       "    <tr>\n",
       "        <td>12</td>\n",
       "        <td>Sudan</td>\n",
       "        <td>36</td>\n",
       "        <td>29.19</td>\n",
       "        <td>7.66</td>\n",
       "        <td>1.72</td>\n",
       "        <td>1.21</td>\n",
       "    </tr>\n",
       "    <tr>\n",
       "        <td>13</td>\n",
       "        <td>Philippines</td>\n",
       "        <td>100</td>\n",
       "        <td>24.27</td>\n",
       "        <td>6.11</td>\n",
       "        <td>1.61</td>\n",
       "        <td>1.21</td>\n",
       "    </tr>\n",
       "    <tr>\n",
       "        <td>14</td>\n",
       "        <td>Bangladesh</td>\n",
       "        <td>168</td>\n",
       "        <td>21.14</td>\n",
       "        <td>5.61</td>\n",
       "        <td>1.6</td>\n",
       "        <td>1.21</td>\n",
       "    </tr>\n",
       "    <tr>\n",
       "        <td>15</td>\n",
       "        <td>Pakistan</td>\n",
       "        <td>199</td>\n",
       "        <td>22.58</td>\n",
       "        <td>6.49</td>\n",
       "        <td>1.46</td>\n",
       "        <td>1.21</td>\n",
       "    </tr>\n",
       "</table>"
      ],
      "text/plain": [
       "[(1, 'Uganda', 37, 43.79, 10.69, 3.24, 1.21),\n",
       " (2, 'Iraq', 37, 31.45, 3.77, 2.93, 1.21),\n",
       " (3, 'Ethiopia', 99, 37.27, 8.19, 2.89, 1.21),\n",
       " (4, 'Tanzania', 51, 36.39, 8.0, 2.79, 1.21),\n",
       " (5, 'Congo, Democratic Republic of the', 79, 34.88, 10.07, 2.45, 1.21),\n",
       " (5, 'Nigeria', 181, 37.64, 12.9, 2.45, 1.21),\n",
       " (7, 'Afghanistan', 32, 38.57, 13.89, 2.32, 1.21),\n",
       " (8, 'Kenya', 45, 26.4, 6.89, 1.93, 1.21),\n",
       " (9, 'Algeria', 39, 23.67, 4.31, 1.84, 1.21),\n",
       " (10, 'Egypt', 88, 22.9, 4.77, 1.79, 1.21),\n",
       " (10, 'Nepal', 31, 20.64, 6.56, 1.79, 1.21),\n",
       " (12, 'Sudan', 36, 29.19, 7.66, 1.72, 1.21),\n",
       " (13, 'Philippines', 100, 24.27, 6.11, 1.61, 1.21),\n",
       " (14, 'Bangladesh', 168, 21.14, 5.61, 1.6, 1.21),\n",
       " (15, 'Pakistan', 199, 22.58, 6.49, 1.46, 1.21)]"
      ]
     },
     "execution_count": 622,
     "metadata": {},
     "output_type": "execute_result"
    }
   ],
   "source": [
    "%%sql\n",
    "SELECT RANK() OVER(ORDER BY population_growth DESC ) as 'rank',\n",
    "            name as Country,population/1000000 'pop(M)',birth_rate,death_rate, population_growth,\n",
    "            (SELECT ROUND(AVG(population_growth),2) FROM facts\n",
    "            WHERE name <>\"European Union\"\n",
    "            AND name <>\"World\")'world average pop.growth'\n",
    "FROM facts\n",
    "WHERE population>=30000000 AND population_growth >(SELECT AVG(population_growth)\n",
    "                                                    FROM facts WHERE name <>\"European Union\"\n",
    "                                                  AND name <>\"World\")\n",
    "ORDER BY population_growth DESC\n",
    "LIMIT 15;"
   ]
  },
  {
   "cell_type": "code",
   "execution_count": 599,
   "metadata": {},
   "outputs": [
    {
     "name": "stdout",
     "output_type": "stream",
     "text": [
      " * sqlite:///factbook.db\n",
      "Done.\n"
     ]
    },
    {
     "data": {
      "text/html": [
       "<table>\n",
       "    <tr>\n",
       "        <th>EU population growth rate</th>\n",
       "    </tr>\n",
       "    <tr>\n",
       "        <td>0.25</td>\n",
       "    </tr>\n",
       "</table>"
      ],
      "text/plain": [
       "[(0.25,)]"
      ]
     },
     "execution_count": 599,
     "metadata": {},
     "output_type": "execute_result"
    }
   ],
   "source": [
    "%%sql\n",
    "SELECT AVG(population_growth)'EU population growth rate'\n",
    "FROM facts WHERE name =\"European Union\""
   ]
  },
  {
   "cell_type": "markdown",
   "metadata": {},
   "source": [
    "We see that it is mainly African countries that have the highest population growth.<br>This coincides with this <a href=\"https://twitter.com/aronstrandberg/status/1147867848104194048\" target=\"_blank\"> data visualisation</a> and research here : <a href=\"https://www.pewresearch.org/fact-tank/2019/07/10/for-world-population-day-a-look-at-the-countries-with-the-biggest-projected-gains-and-losses-by-2100/\" target=\"_blank\">Pew Research Center</a> that shows Africa is expected to gain the most people by the end of the century in 2100, so we can be confident in our results. <p>The European Union (EU) is almost 5 times as small as the average : 0.25 vs 1.21. <p>European countries (including non-EU ones) have largely fertility rates below replacement levels and the European population is expected to peak in 2040.<br>Europe as a region in 2019 had the highest percentage of people 65+.\n",
    "    \n",
    "<h3>Field Listing :: Birth rate</h3>\n",
    "This entry gives the average annual number of births during a year per 1,000 persons in the population at midyear.<br> The birth rate is usually the dominant factor in determining the rate of population growth. <br>It depends on both the level of fertility and the age structure of the population. "
   ]
  },
  {
   "cell_type": "code",
   "execution_count": 623,
   "metadata": {},
   "outputs": [
    {
     "name": "stdout",
     "output_type": "stream",
     "text": [
      " * sqlite:///factbook.db\n",
      "Done.\n"
     ]
    },
    {
     "data": {
      "text/html": [
       "<table>\n",
       "    <tr>\n",
       "        <th>name</th>\n",
       "        <th>pop.(M)</th>\n",
       "        <th>birth_rate</th>\n",
       "        <th>death_rate</th>\n",
       "        <th>population_growth</th>\n",
       "    </tr>\n",
       "    <tr>\n",
       "        <td>European Union</td>\n",
       "        <td>513</td>\n",
       "        <td>10.2</td>\n",
       "        <td>10.2</td>\n",
       "        <td>0.25</td>\n",
       "    </tr>\n",
       "    <tr>\n",
       "        <td>Russia</td>\n",
       "        <td>142</td>\n",
       "        <td>11.6</td>\n",
       "        <td>13.69</td>\n",
       "        <td>0.04</td>\n",
       "    </tr>\n",
       "    <tr>\n",
       "        <td>Germany</td>\n",
       "        <td>80</td>\n",
       "        <td>8.47</td>\n",
       "        <td>11.42</td>\n",
       "        <td>0.17</td>\n",
       "    </tr>\n",
       "    <tr>\n",
       "        <td>France</td>\n",
       "        <td>66</td>\n",
       "        <td>12.38</td>\n",
       "        <td>9.16</td>\n",
       "        <td>0.43</td>\n",
       "    </tr>\n",
       "    <tr>\n",
       "        <td>United Kingdom</td>\n",
       "        <td>64</td>\n",
       "        <td>12.17</td>\n",
       "        <td>9.35</td>\n",
       "        <td>0.54</td>\n",
       "    </tr>\n",
       "    <tr>\n",
       "        <td>Italy</td>\n",
       "        <td>61</td>\n",
       "        <td>8.74</td>\n",
       "        <td>10.19</td>\n",
       "        <td>0.27</td>\n",
       "    </tr>\n",
       "    <tr>\n",
       "        <td>Spain</td>\n",
       "        <td>48</td>\n",
       "        <td>9.64</td>\n",
       "        <td>9.04</td>\n",
       "        <td>0.89</td>\n",
       "    </tr>\n",
       "    <tr>\n",
       "        <td>Poland</td>\n",
       "        <td>38</td>\n",
       "        <td>9.74</td>\n",
       "        <td>10.19</td>\n",
       "        <td>0.09</td>\n",
       "    </tr>\n",
       "    <tr>\n",
       "        <td>Romania</td>\n",
       "        <td>21</td>\n",
       "        <td>9.14</td>\n",
       "        <td>11.9</td>\n",
       "        <td>0.3</td>\n",
       "    </tr>\n",
       "    <tr>\n",
       "        <td>Azerbaijan</td>\n",
       "        <td>9</td>\n",
       "        <td>16.64</td>\n",
       "        <td>7.07</td>\n",
       "        <td>0.96</td>\n",
       "    </tr>\n",
       "    <tr>\n",
       "        <td>Belarus</td>\n",
       "        <td>9</td>\n",
       "        <td>10.7</td>\n",
       "        <td>13.36</td>\n",
       "        <td>0.2</td>\n",
       "    </tr>\n",
       "    <tr>\n",
       "        <td>Sweden</td>\n",
       "        <td>9</td>\n",
       "        <td>11.99</td>\n",
       "        <td>9.4</td>\n",
       "        <td>0.8</td>\n",
       "    </tr>\n",
       "    <tr>\n",
       "        <td>Georgia</td>\n",
       "        <td>4</td>\n",
       "        <td>12.74</td>\n",
       "        <td>10.82</td>\n",
       "        <td>0.08</td>\n",
       "    </tr>\n",
       "    <tr>\n",
       "        <td>Armenia</td>\n",
       "        <td>3</td>\n",
       "        <td>13.61</td>\n",
       "        <td>9.34</td>\n",
       "        <td>0.15</td>\n",
       "    </tr>\n",
       "</table>"
      ],
      "text/plain": [
       "[('European Union', 513, 10.2, 10.2, 0.25),\n",
       " ('Russia', 142, 11.6, 13.69, 0.04),\n",
       " ('Germany', 80, 8.47, 11.42, 0.17),\n",
       " ('France', 66, 12.38, 9.16, 0.43),\n",
       " ('United Kingdom', 64, 12.17, 9.35, 0.54),\n",
       " ('Italy', 61, 8.74, 10.19, 0.27),\n",
       " ('Spain', 48, 9.64, 9.04, 0.89),\n",
       " ('Poland', 38, 9.74, 10.19, 0.09),\n",
       " ('Romania', 21, 9.14, 11.9, 0.3),\n",
       " ('Azerbaijan', 9, 16.64, 7.07, 0.96),\n",
       " ('Belarus', 9, 10.7, 13.36, 0.2),\n",
       " ('Sweden', 9, 11.99, 9.4, 0.8),\n",
       " ('Georgia', 4, 12.74, 10.82, 0.08),\n",
       " ('Armenia', 3, 13.61, 9.34, 0.15)]"
      ]
     },
     "execution_count": 623,
     "metadata": {},
     "output_type": "execute_result"
    }
   ],
   "source": [
    "%%sql\n",
    "SELECT name,population/1000000 'pop.(M)',birth_rate,death_rate,population_growth\n",
    "FROM facts WHERE population>1000000 AND name in ('European Union','Russia','Poland','Romania','France','Italy','Spain',\n",
    "                          'Germany','United Kingdom','Sweden',\n",
    "                         'Andorra','Armenia','Azerbaijan','Belarus','Georgia','Iceland')\n",
    "order by 2 desc\n"
   ]
  },
  {
   "cell_type": "markdown",
   "metadata": {},
   "source": [
    "We see that as the birth_rate is in close range of the death rate, European populations are either very slowly increasing  or decreasing. Low fertility, as represented by the birth_rate (births per 1000), is a main factor in accelerating the ageing of European populations."
   ]
  },
  {
   "cell_type": "code",
   "execution_count": 321,
   "metadata": {},
   "outputs": [
    {
     "name": "stdout",
     "output_type": "stream",
     "text": [
      " * sqlite:///factbook.db\n",
      "Done.\n"
     ]
    },
    {
     "data": {
      "text/html": [
       "<table>\n",
       "    <tr>\n",
       "        <th>name</th>\n",
       "        <th>population as percent of China</th>\n",
       "    </tr>\n",
       "    <tr>\n",
       "        <td>France</td>\n",
       "        <td>4.9%</td>\n",
       "    </tr>\n",
       "</table>"
      ],
      "text/plain": [
       "[('France', '4.9%')]"
      ]
     },
     "execution_count": 321,
     "metadata": {},
     "output_type": "execute_result"
    }
   ],
   "source": [
    "%%sql\n",
    "SELECT name, \n",
    "ROUND(CAST(population AS FLOAT)/\n",
    "       (SELECT population FROM facts WHERE name = 'China')*100,1)||'%' \n",
    "       'population as percent of China'\n",
    "FROM facts WHERE name = 'France';\n",
    "\n"
   ]
  },
  {
   "cell_type": "code",
   "execution_count": 340,
   "metadata": {},
   "outputs": [
    {
     "name": "stdout",
     "output_type": "stream",
     "text": [
      " * sqlite:///factbook.db\n",
      "Done.\n"
     ]
    },
    {
     "data": {
      "text/html": [
       "<table>\n",
       "    <tr>\n",
       "        <th>name</th>\n",
       "        <th>Percent of world population</th>\n",
       "    </tr>\n",
       "    <tr>\n",
       "        <td>China</td>\n",
       "        <td>18%</td>\n",
       "    </tr>\n",
       "</table>"
      ],
      "text/plain": [
       "[('China', '18%')]"
      ]
     },
     "execution_count": 340,
     "metadata": {},
     "output_type": "execute_result"
    }
   ],
   "source": [
    "%%sql\n",
    "SELECT name,CAST(CAST(Population AS FLOAT) / \n",
    "(SELECT MAX(population) FROM facts)*100 AS INT)||'%' 'Percent of world population'\n",
    "FROM facts\n",
    "WHERE name == (SELECT name\n",
    "               FROM facts\n",
    "               WHERE population == (SELECT MAX(population)\n",
    "                                    FROM facts\n",
    "                                    WHERE name <> 'World'));"
   ]
  },
  {
   "cell_type": "code",
   "execution_count": 482,
   "metadata": {},
   "outputs": [
    {
     "name": "stdout",
     "output_type": "stream",
     "text": [
      " * sqlite:///factbook.db\n",
      "Done.\n"
     ]
    },
    {
     "data": {
      "text/html": [
       "<table>\n",
       "    <tr>\n",
       "        <th>Ranking</th>\n",
       "        <th>name</th>\n",
       "        <th>population</th>\n",
       "        <th>Percent of world population</th>\n",
       "    </tr>\n",
       "    <tr>\n",
       "        <td>1</td>\n",
       "        <td>China</td>\n",
       "        <td>1367485388</td>\n",
       "        <td>18%</td>\n",
       "    </tr>\n",
       "    <tr>\n",
       "        <td>2</td>\n",
       "        <td>India</td>\n",
       "        <td>1251695584</td>\n",
       "        <td>17%</td>\n",
       "    </tr>\n",
       "    <tr>\n",
       "        <td>3</td>\n",
       "        <td>United States</td>\n",
       "        <td>321368864</td>\n",
       "        <td>4%</td>\n",
       "    </tr>\n",
       "    <tr>\n",
       "        <td>4</td>\n",
       "        <td>Indonesia</td>\n",
       "        <td>255993674</td>\n",
       "        <td>3%</td>\n",
       "    </tr>\n",
       "    <tr>\n",
       "        <td>5</td>\n",
       "        <td>Brazil</td>\n",
       "        <td>204259812</td>\n",
       "        <td>2%</td>\n",
       "    </tr>\n",
       "</table>"
      ],
      "text/plain": [
       "[(1, 'China', 1367485388, '18%'),\n",
       " (2, 'India', 1251695584, '17%'),\n",
       " (3, 'United States', 321368864, '4%'),\n",
       " (4, 'Indonesia', 255993674, '3%'),\n",
       " (5, 'Brazil', 204259812, '2%')]"
      ]
     },
     "execution_count": 482,
     "metadata": {},
     "output_type": "execute_result"
    }
   ],
   "source": [
    "%%sql\n",
    "SELECT RANK() OVER(ORDER BY population DESC ) as Ranking, name,population,\n",
    "CAST(CAST(population AS FLOAT) / \n",
    "(SELECT MAX(population) FROM facts)*100 AS INT)||'%' 'Percent of world population'\n",
    "FROM facts\n",
    "WHERE name <> 'World' AND name <> 'European Union'\n",
    "ORDER BY 3 DESC\n",
    "LIMIT 5;\n",
    "\n",
    "\n"
   ]
  },
  {
   "cell_type": "code",
   "execution_count": 440,
   "metadata": {},
   "outputs": [
    {
     "name": "stdout",
     "output_type": "stream",
     "text": [
      " * sqlite:///factbook.db\n",
      "Done.\n"
     ]
    },
    {
     "data": {
      "text/html": [
       "<table>\n",
       "    <tr>\n",
       "        <th>countries with &gt;2x area of India</th>\n",
       "        <th>area (M)</th>\n",
       "        <th>India area (M)</th>\n",
       "    </tr>\n",
       "    <tr>\n",
       "        <td>Australia</td>\n",
       "        <td>7</td>\n",
       "        <td>3</td>\n",
       "    </tr>\n",
       "    <tr>\n",
       "        <td>Brazil</td>\n",
       "        <td>8</td>\n",
       "        <td>3</td>\n",
       "    </tr>\n",
       "    <tr>\n",
       "        <td>Canada</td>\n",
       "        <td>9</td>\n",
       "        <td>3</td>\n",
       "    </tr>\n",
       "    <tr>\n",
       "        <td>China</td>\n",
       "        <td>9</td>\n",
       "        <td>3</td>\n",
       "    </tr>\n",
       "    <tr>\n",
       "        <td>Russia</td>\n",
       "        <td>17</td>\n",
       "        <td>3</td>\n",
       "    </tr>\n",
       "    <tr>\n",
       "        <td>United States</td>\n",
       "        <td>9</td>\n",
       "        <td>3</td>\n",
       "    </tr>\n",
       "</table>"
      ],
      "text/plain": [
       "[('Australia', 7, 3),\n",
       " ('Brazil', 8, 3),\n",
       " ('Canada', 9, 3),\n",
       " ('China', 9, 3),\n",
       " ('Russia', 17, 3),\n",
       " ('United States', 9, 3)]"
      ]
     },
     "execution_count": 440,
     "metadata": {},
     "output_type": "execute_result"
    }
   ],
   "source": [
    "%%sql\n",
    "SELECT name 'countries with >2x area of India', area/1000000 'area (M)',\n",
    "(SELECT area/1000000 FROM facts\n",
    "  WHERE name = 'India')AS 'India area (M)'\n",
    "FROM facts\n",
    "  WHERE area > \n",
    "    (SELECT 2*area FROM facts WHERE name = 'India')"
   ]
  },
  {
   "cell_type": "markdown",
   "metadata": {},
   "source": [
    "birth_rate - The country's birth rate, or the number of births a year per 1,000 people."
   ]
  },
  {
   "cell_type": "code",
   "execution_count": 516,
   "metadata": {},
   "outputs": [
    {
     "name": "stdout",
     "output_type": "stream",
     "text": [
      " * sqlite:///factbook.db\n",
      "Done.\n"
     ]
    },
    {
     "data": {
      "text/html": [
       "<table>\n",
       "    <tr>\n",
       "        <th>top10 countries by birth rates (%) of total</th>\n",
       "    </tr>\n",
       "    <tr>\n",
       "        <td>9.53</td>\n",
       "    </tr>\n",
       "</table>"
      ],
      "text/plain": [
       "[(9.53,)]"
      ]
     },
     "execution_count": 516,
     "metadata": {},
     "output_type": "execute_result"
    }
   ],
   "source": [
    "%%sql\n",
    "WITH top10births AS\n",
    "    (\n",
    "    SELECT birth_rate/ (SELECT SUM(birth_rate) FROM facts) f\n",
    "      FROM facts\n",
    "     ORDER BY 1 DESC\n",
    "     LIMIT 10\n",
    "    )\n",
    "    \n",
    "    SELECT ROUND(SUM(f) * 100, 2) 'top10 countries by birth rates (%) of total'\n",
    "  FROM top10births"
   ]
  },
  {
   "cell_type": "code",
   "execution_count": 645,
   "metadata": {},
   "outputs": [
    {
     "name": "stdout",
     "output_type": "stream",
     "text": [
      " * sqlite:///factbook.db\n",
      "Done.\n"
     ]
    },
    {
     "data": {
      "text/html": [
       "<table>\n",
       "    <tr>\n",
       "        <th>name</th>\n",
       "        <th>birth_rate</th>\n",
       "        <th>world birth_rate sum</th>\n",
       "    </tr>\n",
       "    <tr>\n",
       "        <td>Niger</td>\n",
       "        <td>45.45</td>\n",
       "        <td>4406</td>\n",
       "    </tr>\n",
       "    <tr>\n",
       "        <td>Mali</td>\n",
       "        <td>44.99</td>\n",
       "        <td>4406</td>\n",
       "    </tr>\n",
       "    <tr>\n",
       "        <td>Uganda</td>\n",
       "        <td>43.79</td>\n",
       "        <td>4406</td>\n",
       "    </tr>\n",
       "    <tr>\n",
       "        <td>Zambia</td>\n",
       "        <td>42.13</td>\n",
       "        <td>4406</td>\n",
       "    </tr>\n",
       "    <tr>\n",
       "        <td>Burkina Faso</td>\n",
       "        <td>42.03</td>\n",
       "        <td>4406</td>\n",
       "    </tr>\n",
       "    <tr>\n",
       "        <td>Burundi</td>\n",
       "        <td>42.01</td>\n",
       "        <td>4406</td>\n",
       "    </tr>\n",
       "    <tr>\n",
       "        <td>Malawi</td>\n",
       "        <td>41.56</td>\n",
       "        <td>4406</td>\n",
       "    </tr>\n",
       "    <tr>\n",
       "        <td>Somalia</td>\n",
       "        <td>40.45</td>\n",
       "        <td>4406</td>\n",
       "    </tr>\n",
       "    <tr>\n",
       "        <td>Angola</td>\n",
       "        <td>38.78</td>\n",
       "        <td>4406</td>\n",
       "    </tr>\n",
       "    <tr>\n",
       "        <td>Mozambique</td>\n",
       "        <td>38.58</td>\n",
       "        <td>4406</td>\n",
       "    </tr>\n",
       "</table>"
      ],
      "text/plain": [
       "[('Niger', 45.45, 4406),\n",
       " ('Mali', 44.99, 4406),\n",
       " ('Uganda', 43.79, 4406),\n",
       " ('Zambia', 42.13, 4406),\n",
       " ('Burkina Faso', 42.03, 4406),\n",
       " ('Burundi', 42.01, 4406),\n",
       " ('Malawi', 41.56, 4406),\n",
       " ('Somalia', 40.45, 4406),\n",
       " ('Angola', 38.78, 4406),\n",
       " ('Mozambique', 38.58, 4406)]"
      ]
     },
     "execution_count": 645,
     "metadata": {},
     "output_type": "execute_result"
    }
   ],
   "source": [
    "    %%sql\n",
    "    SELECT name,birth_rate,\n",
    "    (select cast(SUM(birth_rate)as int) FROM facts) 'world birth_rate sum'  \n",
    "      FROM facts\n",
    "     ORDER BY 2 DESC\n",
    "     LIMIT 10"
   ]
  },
  {
   "cell_type": "markdown",
   "metadata": {},
   "source": [
    "<h3> Show countries with pop > Brazil but less than China </h3>"
   ]
  },
  {
   "cell_type": "code",
   "execution_count": 244,
   "metadata": {},
   "outputs": [
    {
     "name": "stdout",
     "output_type": "stream",
     "text": [
      " * sqlite:///factbook.db\n",
      "Done.\n"
     ]
    },
    {
     "data": {
      "text/html": [
       "<table>\n",
       "    <tr>\n",
       "        <th>name</th>\n",
       "        <th>pop (M)</th>\n",
       "    </tr>\n",
       "    <tr>\n",
       "        <td>India</td>\n",
       "        <td>1251</td>\n",
       "    </tr>\n",
       "    <tr>\n",
       "        <td>Indonesia</td>\n",
       "        <td>255</td>\n",
       "    </tr>\n",
       "    <tr>\n",
       "        <td>United States</td>\n",
       "        <td>321</td>\n",
       "    </tr>\n",
       "</table>"
      ],
      "text/plain": [
       "[('India', 1251), ('Indonesia', 255), ('United States', 321)]"
      ]
     },
     "execution_count": 244,
     "metadata": {},
     "output_type": "execute_result"
    }
   ],
   "source": [
    "%%sql\n",
    "SELECT name, population/1000000 'pop (M)'\n",
    "FROM facts \n",
    "WHERE population > (SELECT population FROM facts WHERE name = 'Brazil') \n",
    "AND population < (SELECT population FROM facts WHERE name = 'China')\n",
    "AND NOT name = 'European Union'\n"
   ]
  },
  {
   "cell_type": "markdown",
   "metadata": {},
   "source": [
    " <h3>Field Listing :: Population growth rate</h3>\n",
    "The average annual percent change in the population, resulting from a surplus (or deficit) of births over deaths and the balance of migrants entering and leaving a country. The rate may be positive or negative. The growth rate is a factor in determining how great a burden would be imposed on a country by the changing needs of its people for infrastructure (e.g., schools, hospitals, housing, roads), resources (e.g., food, water, electricity), and jobs. Rapid population growth can be seen as threatening by neighboring countries. </p>\n",
    "\n",
    "The population_growth column is the country's population growth as a percentage and so predicted increase in millions of people is derived as below."
   ]
  },
  {
   "cell_type": "code",
   "execution_count": 646,
   "metadata": {},
   "outputs": [
    {
     "name": "stdout",
     "output_type": "stream",
     "text": [
      " * sqlite:///factbook.db\n",
      "Done.\n"
     ]
    },
    {
     "data": {
      "text/html": [
       "<table>\n",
       "    <tr>\n",
       "        <th>name</th>\n",
       "        <th>pop (M)</th>\n",
       "        <th>population_growth%</th>\n",
       "        <th>predicted increase (M)</th>\n",
       "    </tr>\n",
       "    <tr>\n",
       "        <td>World</td>\n",
       "        <td>7256</td>\n",
       "        <td>1.08</td>\n",
       "        <td>78</td>\n",
       "    </tr>\n",
       "    <tr>\n",
       "        <td>India</td>\n",
       "        <td>1251</td>\n",
       "        <td>1.22</td>\n",
       "        <td>15</td>\n",
       "    </tr>\n",
       "    <tr>\n",
       "        <td>China</td>\n",
       "        <td>1367</td>\n",
       "        <td>0.45</td>\n",
       "        <td>6</td>\n",
       "    </tr>\n",
       "    <tr>\n",
       "        <td>Nigeria</td>\n",
       "        <td>181</td>\n",
       "        <td>2.45</td>\n",
       "        <td>4</td>\n",
       "    </tr>\n",
       "    <tr>\n",
       "        <td>Bangladesh</td>\n",
       "        <td>168</td>\n",
       "        <td>1.6</td>\n",
       "        <td>2</td>\n",
       "    </tr>\n",
       "    <tr>\n",
       "        <td>Ethiopia</td>\n",
       "        <td>99</td>\n",
       "        <td>2.89</td>\n",
       "        <td>2</td>\n",
       "    </tr>\n",
       "    <tr>\n",
       "        <td>Indonesia</td>\n",
       "        <td>255</td>\n",
       "        <td>0.92</td>\n",
       "        <td>2</td>\n",
       "    </tr>\n",
       "    <tr>\n",
       "        <td>Pakistan</td>\n",
       "        <td>199</td>\n",
       "        <td>1.46</td>\n",
       "        <td>2</td>\n",
       "    </tr>\n",
       "    <tr>\n",
       "        <td>United States</td>\n",
       "        <td>321</td>\n",
       "        <td>0.78</td>\n",
       "        <td>2</td>\n",
       "    </tr>\n",
       "    <tr>\n",
       "        <td>Brazil</td>\n",
       "        <td>204</td>\n",
       "        <td>0.77</td>\n",
       "        <td>1</td>\n",
       "    </tr>\n",
       "</table>"
      ],
      "text/plain": [
       "[('World', 7256, 1.08, 78),\n",
       " ('India', 1251, 1.22, 15),\n",
       " ('China', 1367, 0.45, 6),\n",
       " ('Nigeria', 181, 2.45, 4),\n",
       " ('Bangladesh', 168, 1.6, 2),\n",
       " ('Ethiopia', 99, 2.89, 2),\n",
       " ('Indonesia', 255, 0.92, 2),\n",
       " ('Pakistan', 199, 1.46, 2),\n",
       " ('United States', 321, 0.78, 2),\n",
       " ('Brazil', 204, 0.77, 1)]"
      ]
     },
     "execution_count": 646,
     "metadata": {},
     "output_type": "execute_result"
    }
   ],
   "source": [
    "%%sql\n",
    "SELECT name, population/1000000 'pop (M)', population_growth 'population_growth%', \n",
    "CAST((population * (population_growth/ 100 + 1) - population)/1000000 AS INT) 'predicted increase (M)'\n",
    "FROM facts\n",
    "ORDER BY 4 DESC\n",
    "LIMIT 10;"
   ]
  }
 ],
 "metadata": {
  "kernelspec": {
   "display_name": "Python 3",
   "language": "python",
   "name": "python3"
  },
  "language_info": {
   "codemirror_mode": {
    "name": "ipython",
    "version": 3
   },
   "file_extension": ".py",
   "mimetype": "text/x-python",
   "name": "python",
   "nbconvert_exporter": "python",
   "pygments_lexer": "ipython3",
   "version": "3.7.4"
  }
 },
 "nbformat": 4,
 "nbformat_minor": 2
}
